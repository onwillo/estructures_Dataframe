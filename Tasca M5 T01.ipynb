{
 "cells": [
  {
   "cell_type": "code",
   "execution_count": 8,
   "id": "ddabce37",
   "metadata": {},
   "outputs": [
    {
     "name": "stdout",
     "output_type": "stream",
     "text": [
      "El p-valor es: 7.43622812352984e-52\n",
      "Rechazamos la hipótesis nula\n"
     ]
    }
   ],
   "source": [
    "\"\"\"En este código, vamos a analizar informacion que contiene información sobre equipos de fútbol. \n",
    "Queremos hacer una prueba para saber si un número que nos interesa es mayor o menor a un valor de referencia.\n",
    "Vamos a evaluar la columna de \"Pts\". Esta columna nos dice cuántos puntos tiene cada equipo. \n",
    "Queremos saber si los puntos de los equipos son diferentes a un número específico que es nuestro \"valor de referencia\".\n",
    "\n",
    "Para saber si los puntos de los equipos son diferentes a nuestro valor e referencia, \n",
    "usamos otra herramienta llamada \"scipy.stats\". Esta herramienta nos ayuda a hacer pruebas matemáticas.\n",
    "\n",
    "Hacemos una prueba estadística para comparar los puntos de los equipos con nuestro valor de referencia. \n",
    "Si el resultado de la prueba (llamado \"p-valor\") es menor a un número especial llamado \"alfa\" (que en este caso es 0.05), \n",
    "entonces podemos decir que los puntos de los equipos son diferentes a nuestro valor de referencia.\n",
    "\n",
    "Finalmente, imprimimos el resultado de la prueba. Si el p-valor es menor a alfa, decimos \"Rechazamos la hipótesis nula\", \n",
    "lo que significa que los puntos de los equipos son diferentes a nuestro valor de referencia. \n",
    "Si el p-valor es mayor a alfa, decimos \"No rechazamos la hipótesis nula\", lo que significa que los puntos de \n",
    "los equipos son similares a nuestro valor de referencia.\"\"\"\n",
    "\n",
    "import pandas as pd\n",
    "import scipy.stats as stats\n",
    "\n",
    "# Cargar los datos en un DataFrame\n",
    "df = pd.read_csv('UEFA.csv', encoding='ISO-8859-1', delimiter=';')\n",
    "\n",
    "# Seleccionar el atributo de interés (por ejemplo, 'Goles')\n",
    "atributo = df['Pts']\n",
    "\n",
    "\n",
    "# Definir los valores de referencia para la hipótesis nula (H0)\n",
    "valor_referencia = 100\n",
    "\n",
    "# Realizar la prueba estadística y calcular el p-valor\n",
    "t_statistic, p_value = stats.ttest_1samp(atributo, valor_referencia)\n",
    "\n",
    "# Imprimir el p-valor\n",
    "print(\"El p-valor es:\", p_value)\n",
    "alfa = 0.05\n",
    "\n",
    "if p_value < alfa:\n",
    "    print(\"Rechazamos la hipótesis nula\")\n",
    "else:\n",
    "    print(\"No rechazamos la hipótesis nula\")"
   ]
  },
  {
   "cell_type": "code",
   "execution_count": 10,
   "id": "2357164e",
   "metadata": {},
   "outputs": [
    {
     "name": "stdout",
     "output_type": "stream",
     "text": [
      "P-valor para Goles a favor (GF): 1.9273678228998548e-07\n",
      "Rechazamos la hipótesis nula para GF\n",
      "P-valor para Goles en contra (GA): 1.960323370669084e-09\n",
      "Rechazamos la hipótesis nula para GA\n"
     ]
    }
   ],
   "source": [
    "import pandas as pd\n",
    "import scipy.stats as stats\n",
    "\n",
    "# Cargar los datos en un DataFrame\n",
    "df = pd.read_csv('UEFA.csv', encoding='ISO-8859-1', delimiter=';')\n",
    "\n",
    "# Seleccionar los atributos de interés (GF: Goles a favor, GA: Goles en contra)\n",
    "atributo1 = df['GF']\n",
    "atributo2 = df['GA']\n",
    "\n",
    "# Definir los valores de referencia para la hipótesis nula\n",
    "valor_referencia = 60\n",
    "\n",
    "# Realizar la prueba estadística y calcular los p-valores para ambos atributos\n",
    "t_statistic1, p_value1 = stats.ttest_1samp(atributo1, valor_referencia)\n",
    "t_statistic2, p_value2 = stats.ttest_1samp(atributo2, valor_referencia)\n",
    "\n",
    "# Imprimir los p-valores y el resultado de la prueba para el atributo 1\n",
    "print(\"P-valor para Goles a favor (GF):\", p_value1)\n",
    "if p_value1 < 0.05:\n",
    "    print(\"Rechazamos la hipótesis nula para GF\")\n",
    "else:\n",
    "    print(\"No rechazamos la hipótesis nula para GF\")\n",
    "\n",
    "# Imprimir los p-valores y el resultado de la prueba para el atributo 2\n",
    "print(\"P-valor para Goles en contra (GA):\", p_value2)\n",
    "if p_value2 < 0.05:\n",
    "    print(\"Rechazamos la hipótesis nula para GA\")\n",
    "else:\n",
    "    print(\"No rechazamos la hipótesis nula para GA\")"
   ]
  },
  {
   "cell_type": "code",
   "execution_count": 12,
   "id": "36f0241f",
   "metadata": {},
   "outputs": [
    {
     "name": "stdout",
     "output_type": "stream",
     "text": [
      "P-valor para GF: 1.806870912278854e-52\n",
      "Rechazamos la hipótesis nula para GF\n",
      "P-valor para GA: 6.120921722271562e-59\n",
      "Rechazamos la hipótesis nula GA\n",
      "P-valor para GA: 1.0\n",
      "No rechazamos la hipótesis nula para GA\n"
     ]
    }
   ],
   "source": [
    "import pandas as pd\n",
    "import scipy.stats as stats\n",
    "\n",
    "# Cargar los datos en un DataFrame\n",
    "df = pd.read_csv('UEFA.csv', encoding='ISO-8859-1', delimiter=';')\n",
    "\n",
    "# Seleccionar los atributos de interés\n",
    "atributo1 = df['GF']\n",
    "atributo2 = df['GA']\n",
    "atributo3 = df['GD']\n",
    "\n",
    "# Definir los valores de referencia para la hipótesis nula (H0)\n",
    "valor_referencia = 0\n",
    "\n",
    "# Realizar la prueba estadística y calcular los p-valores para los tres atributos\n",
    "t_statistic1, p_value1 = stats.ttest_1samp(atributo1, valor_referencia)\n",
    "t_statistic2, p_value2 = stats.ttest_1samp(atributo2, valor_referencia)\n",
    "t_statistic3, p_value3 = stats.ttest_1samp(atributo3, valor_referencia)\n",
    "\n",
    "# Imprimir los p-valores y el resultado de la prueba para el atributo 1\n",
    "print(\"P-valor para GF:\", p_value1)\n",
    "if p_value1 < 0.05:\n",
    "    print(\"Rechazamos la hipótesis nula para GF\")\n",
    "else:\n",
    "    print(\"No rechazamos la hipótesis nula para GF\")\n",
    "\n",
    "# Imprimir los p-valores y el resultado de la prueba para el atributo 2\n",
    "print(\"P-valor para GA:\", p_value2)\n",
    "if p_value2 < 0.05:\n",
    "    print(\"Rechazamos la hipótesis nula GA\")\n",
    "else:\n",
    "    print(\"No rechazamos la hipótesis nula para GA\")\n",
    "\n",
    "# Imprimir los p-valores y el resultado de la prueba para el atributo 3\n",
    "print(\"P-valor para GA:\", p_value3)\n",
    "if p_value3 < 0.05:\n",
    "    print(\"Rechazamos la hipótesis nula para GA\")\n",
    "else:\n",
    "    print(\"No rechazamos la hipótesis nula para GA\")"
   ]
  }
 ],
 "metadata": {
  "kernelspec": {
   "display_name": "Python 3 (ipykernel)",
   "language": "python",
   "name": "python3"
  },
  "language_info": {
   "codemirror_mode": {
    "name": "ipython",
    "version": 3
   },
   "file_extension": ".py",
   "mimetype": "text/x-python",
   "name": "python",
   "nbconvert_exporter": "python",
   "pygments_lexer": "ipython3",
   "version": "3.9.13"
  }
 },
 "nbformat": 4,
 "nbformat_minor": 5
}
