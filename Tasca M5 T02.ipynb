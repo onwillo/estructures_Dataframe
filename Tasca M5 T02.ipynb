{
 "cells": [
  {
   "cell_type": "code",
   "execution_count": 9,
   "id": "f4590720",
   "metadata": {},
   "outputs": [
    {
     "name": "stdout",
     "output_type": "stream",
     "text": [
      "   CRIM    ZN  INDUS  CHAS   NOX     RM   AGE    DIS  RAD   TAX  PTRATIO  \\\n",
      "0   632  1800   2310     0  5380  65750  6520  40900    1  2960     1530   \n",
      "1  2731     0   7070     0  4690  64210  7890  49671    2  2420     1780   \n",
      "2  2729     0   7070     0  4690  71850  6110  49671    2  2420     1780   \n",
      "3  3237     0   2180     0  4580  69980  4580  60622    3  2220     1870   \n",
      "4  6905     0   2180     0  4580  71470  5420  60622    3  2220     1870   \n",
      "\n",
      "       B  LSTAT  MEDV  \n",
      "0  39690    498  2400  \n",
      "1  39690    914  2160  \n",
      "2  39283    403  3470  \n",
      "3  39463    294  3340  \n",
      "4  39690    533  3620  \n"
     ]
    }
   ],
   "source": [
    "import pandas as pd\n",
    "\n",
    "df = pd.read_csv('housing_data.csv', sep=';', thousands='.')\n",
    "\n",
    "print(df.head(5))"
   ]
  },
  {
   "cell_type": "code",
   "execution_count": 10,
   "id": "c91e865c",
   "metadata": {
    "scrolled": true
   },
   "outputs": [
    {
     "name": "stdout",
     "output_type": "stream",
     "text": [
      "       CRIM        ZN     INDUS  CHAS       NOX        RM       AGE    DIS  \\\n",
      "0 -0.419782  0.284830 -1.287909     0 -0.144217  0.413672 -0.120013  40900   \n",
      "1 -0.417339 -0.487722 -0.593381     0 -0.740262  0.194274  0.367166  49671   \n",
      "2 -0.417342 -0.487722 -0.593381     0 -0.740262  1.282714 -0.265812  49671   \n",
      "3 -0.416750 -0.487722 -1.306878     0 -0.835284  1.016303 -0.809889  60622   \n",
      "4 -0.412482 -0.487722 -1.306878     0 -0.835284  1.228577 -0.511180  60622   \n",
      "\n",
      "   RAD   TAX  PTRATIO      B  LSTAT  MEDV  CHAS_0  CHAS_1  \n",
      "0    1  2960     1530  39690    498  2400       1       0  \n",
      "1    2  2420     1780  39690    914  2160       1       0  \n",
      "2    2  2420     1780  39283    403  3470       1       0  \n",
      "3    3  2220     1870  39463    294  3340       1       0  \n",
      "4    3  2220     1870  39690    533  3620       1       0  \n"
     ]
    }
   ],
   "source": [
    "\"\"\"El proceso de estandarizar la data implica varias tareas, dentro de la inverstigacion he determinado las mas relevantes\n",
    "que presento a continuacion para efecto de practica y jugar con los resultados:\n",
    "    Normalización: Esto es útil cuando las variables tienen diferentes escalas y se desea igualarlas.\n",
    "    Estandarización: Esto es útil cuando se desea que las variables tengan una distribución más cercana a una distribución normal.\n",
    "    Codificación de variables categóricas: Esto puede incluir la creación de columnas dummies (variables binarias) para cada categoría o la codificación ordinal si las categorías tienen un orden inherente.\n",
    "    Eliminación de valores atípicos: Identificar y eliminar valores atípicos que puedan afectar negativamente los resultados del análisis.\n",
    "    Manejo de valores faltantes: Rellenar o eliminar los valores faltantes en el dataset.\n",
    "    \"\"\"\n",
    "import pandas as pd\n",
    "from sklearn.preprocessing import StandardScaler\n",
    "\n",
    "# Cargar el archivo CSV con separador ';'\n",
    "df = pd.read_csv('housing_data.csv', sep=';', thousands='.')\n",
    "\n",
    "\n",
    "# Estandarizar los datos numéricos\n",
    "numeric_cols = ['CRIM', 'ZN', 'INDUS', 'NOX', 'RM', 'AGE']\n",
    "scaler = StandardScaler()\n",
    "df[numeric_cols] = scaler.fit_transform(df[numeric_cols])\n",
    "\n",
    "# Crear columnas dummies para la variable categórica 'CHAS'\n",
    "chas_dummies = pd.get_dummies(df['CHAS'], prefix='CHAS')\n",
    "df = pd.concat([df, chas_dummies], axis=1)\n",
    "\n",
    "# Mostrar las primeras cinco filas del DataFrame transformado\n",
    "print(df.head())"
   ]
  },
  {
   "cell_type": "code",
   "execution_count": 12,
   "id": "534e2ef5",
   "metadata": {},
   "outputs": [
    {
     "name": "stdout",
     "output_type": "stream",
     "text": [
      "Resumen estadístico de las nuevas columnas:\n",
      "           CHAS_0      CHAS_1\n",
      "count  506.000000  506.000000\n",
      "mean     0.930830    0.069170\n",
      "std      0.253994    0.253994\n",
      "min      0.000000    0.000000\n",
      "25%      1.000000    0.000000\n",
      "50%      1.000000    0.000000\n",
      "75%      1.000000    0.000000\n",
      "max      1.000000    1.000000\n"
     ]
    },
    {
     "data": {
      "image/png": "[encoded data removed]",
      "text/plain": [
       "<Figure size 1000x600 with 1 Axes>"
      ]
     },
     "metadata": {},
     "output_type": "display_data"
    }
   ],
   "source": [
    "\"\"\"En el siguiente ejercicio se busca estandarizar u obtener de las nuevas columnas una informacion facil de leer.\n",
    "Se trabaja con la columna CHAS que en teoria ficticiamente habla de cercania con un rio, al estandarizarla\n",
    "o complementarla se puede determinar que cantidad de inmuebles cumplen estas caracteristicas\"\"\"\n",
    "import pandas as pd\n",
    "import matplotlib.pyplot as plt\n",
    "from sklearn.preprocessing import StandardScaler\n",
    "\n",
    "# Cargar el archivo CSV con separador ';'\n",
    "df = pd.read_csv('housing_data.csv', sep=';', thousands='.')\n",
    "\n",
    "\n",
    "# Estandarizar los datos numéricos\n",
    "numeric_cols = ['CRIM', 'ZN', 'INDUS', 'NOX', 'RM', 'AGE']\n",
    "scaler = StandardScaler()\n",
    "df[numeric_cols] = scaler.fit_transform(df[numeric_cols])\n",
    "\n",
    "# Crear columnas dummies para la variable categórica 'CHAS'\n",
    "chas_dummies = pd.get_dummies(df['CHAS'], prefix='CHAS')\n",
    "df = pd.concat([df, chas_dummies], axis=1)\n",
    "\n",
    "# Obtener estadísticas de las nuevas columnas generadas\n",
    "new_columns = [column for column in df.columns if column.startswith('CHAS_')]\n",
    "column_stats = df[new_columns].describe()\n",
    "\n",
    "# Imprimir resumen estadístico de las nuevas columnas\n",
    "print(\"Resumen estadístico de las nuevas columnas:\")\n",
    "print(column_stats)\n",
    "\n",
    "# Graficar las nuevas columnas\n",
    "plt.figure(figsize=(10, 6))\n",
    "for column in new_columns:\n",
    "    plt.hist(df[column], alpha=0.5, label=column)\n",
    "plt.legend()\n",
    "plt.title(\"Distribución de las nuevas columnas\")\n",
    "plt.xlabel(\"Valor\")\n",
    "plt.ylabel(\"Frecuencia\")\n",
    "plt.show()"
   ]
  },
  {
   "cell_type": "code",
   "execution_count": null,
   "id": "2e8c764a",
   "metadata": {},
   "outputs": [],
   "source": []
  }
 ],
 "metadata": {
  "kernelspec": {
   "display_name": "Python 3 (ipykernel)",
   "language": "python",
   "name": "python3"
  },
  "language_info": {
   "codemirror_mode": {
    "name": "ipython",
    "version": 3
   },
   "file_extension": ".py",
   "mimetype": "text/x-python",
   "name": "python",
   "nbconvert_exporter": "python",
   "pygments_lexer": "ipython3",
   "version": "3.9.13"
  }
 },
 "nbformat": 4,
 "nbformat_minor": 5
}
