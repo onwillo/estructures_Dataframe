{
 "cells": [
  {
   "cell_type": "code",
   "execution_count": 6,
   "id": "80fb6df1",
   "metadata": {},
   "outputs": [
    {
     "name": "stdout",
     "output_type": "stream",
     "text": [
      "          Frequency\n",
      "PALABRA            \n",
      "you               2\n",
      "brought           2\n",
      "me                2\n",
      "when              2\n",
      "i                 2\n",
      "only              2\n",
      "sunshine          1\n",
      "saw               1\n",
      "rain              1\n",
      "laughter          1\n",
      "felt              1\n",
      "pain              1\n"
     ]
    }
   ],
   "source": [
    "import pandas as pd\n",
    "from collections import Counter\n",
    "texto = \"You brought me sunshine When I only saw rain You brought me laughter When I only felt pain.\"\n",
    "limpiando_texto = ''.join(c for c in text if c.isalnum() or c.isspace()).lower()\n",
    "words = limpiando_texto.split()\n",
    "word_frequency = Counter(words)\n",
    "frequency_df = pd.DataFrame.from_dict(word_frequency, orient='index', columns=['Frequency'])\n",
    "frequency_df.index.name = 'PALABRA'\n",
    "frequency_df.sort_values('Frequency', ascending=False, inplace=True)\n",
    "print(frequency_df)\n"
   ]
  },
  {
   "cell_type": "code",
   "execution_count": 9,
   "id": "fc831db2",
   "metadata": {},
   "outputs": [
    {
     "name": "stdout",
     "output_type": "stream",
     "text": [
      "Stopwords:\n",
      "{'out', \"won't\", 'by', 'while', 'is', 've', 'itself', 'other', 'ain', 'and', 'into', 'aren', 'had', 'here', 'don', \"aren't\", \"weren't\", 'after', \"doesn't\", 'theirs', 'below', 'above', 'only', 'both', \"don't\", \"it's\", 'for', 'ma', 'himself', 'on', 'just', 'its', 'my', 'than', \"shouldn't\", 'being', \"wouldn't\", 'myself', 'it', 'under', \"you've\", 'his', 'was', 'until', 'been', 'from', 'yourselves', 'herself', 'the', 'he', 'too', 'were', \"couldn't\", 'same', 'we', 'hasn', 'are', 'very', 'between', 'an', 'when', 're', 'haven', 'few', 'to', 'a', 'you', 'that', 'doing', 'our', 'through', 'of', 'ourselves', \"that'll\", 'because', 'again', 'nor', 'couldn', 'there', 'at', 'should', 'shan', 'themselves', 'your', 'about', 'didn', \"you'll\", \"mightn't\", 'which', 'hers', 'who', 'll', 'all', \"she's\", 'does', 'm', 'mustn', 'each', 'against', 'down', 'during', 'why', 'own', 'but', 'before', 'now', 'if', 'they', 'wouldn', 'am', \"isn't\", 'further', 'weren', 'then', 'some', 'what', \"shan't\", \"should've\", 'not', 'whom', 'their', 'isn', 'yourself', 'i', \"haven't\", 'mightn', 'once', 'over', 'she', 'o', 'such', 'hadn', 'any', 'how', \"wasn't\", 't', \"needn't\", 'wasn', 'as', 'needn', 'more', 'off', 'them', 'will', 'this', 'her', 'in', 'having', 'did', 'won', 'doesn', 'have', 'do', \"didn't\", 'or', \"you'd\", 'y', 'up', 'me', 's', 'no', 'these', 'd', 'be', 'where', 'has', \"mustn't\", 'ours', 'those', 'with', \"hadn't\", \"you're\", 'so', 'most', 'him', \"hasn't\", 'yours', 'shouldn', 'can'}\n",
      "Frecuencia de palabras después de eliminar stopwords y aplicar stemming:\n",
      "          Frequency\n",
      "Word               \n",
      "brought           2\n",
      "sunshin           1\n",
      "saw               1\n",
      "rain              1\n",
      "laughter          1\n",
      "felt              1\n",
      "pain              1\n"
     ]
    },
    {
     "name": "stderr",
     "output_type": "stream",
     "text": [
      "[nltk_data] Downloading package stopwords to\n",
      "[nltk_data]     C:\\Users\\Willo\\AppData\\Roaming\\nltk_data...\n",
      "[nltk_data]   Package stopwords is already up-to-date!\n",
      "[nltk_data] Downloading package punkt to\n",
      "[nltk_data]     C:\\Users\\Willo\\AppData\\Roaming\\nltk_data...\n",
      "[nltk_data]   Package punkt is already up-to-date!\n"
     ]
    }
   ],
   "source": [
    "import pandas as pd\n",
    "import nltk\n",
    "from nltk.corpus import stopwords\n",
    "from nltk.stem import PorterStemmer\n",
    "\n",
    "nltk.download('stopwords')\n",
    "nltk.download('punkt')\n",
    "\n",
    "text = \"You brought me sunshine When I only saw rain You brought me laughter When I only felt pain.\"\n",
    "\n",
    "# Limpiar el texto eliminando signos de puntuación y convirtiendo todas las palabras en minúsculas\n",
    "cleaned_text = ''.join(c for c in text if c.isalnum() or c.isspace()).lower()\n",
    "\n",
    "\n",
    "words = nltk.word_tokenize(cleaned_text)\n",
    "\n",
    "# Mostrar las stopwords\n",
    "stop_words = set(stopwords.words('english'))\n",
    "print(\"Stopwords:\")\n",
    "print(stop_words)\n",
    "\n",
    "# Eliminar las stopwords\n",
    "filtered_words = [word for word in words if word not in stop_words]\n",
    "\n",
    "# Realizar el stemming\n",
    "stemmer = PorterStemmer()\n",
    "stemmed_words = [stemmer.stem(word) for word in filtered_words]\n",
    "\n",
    "# Calcular la frecuencia de las palabras\n",
    "word_frequency = nltk.FreqDist(stemmed_words)\n",
    "\n",
    "# Convertir el resultado\n",
    "frequency_df = pd.DataFrame.from_dict(word_frequency, orient='index', columns=['Frequency'])\n",
    "frequency_df.index.name = 'Word'\n",
    "frequency_df.sort_values('Frequency', ascending=False, inplace=True)\n",
    "\n",
    "# Mostrar el DataFrame \n",
    "print(\"Frecuencia de palabras después de eliminar stopwords y aplicar stemming:\")\n",
    "print(frequency_df)\n"
   ]
  },
  {
   "cell_type": "code",
   "execution_count": 12,
   "id": "6299b1e2",
   "metadata": {},
   "outputs": [
    {
     "name": "stdout",
     "output_type": "stream",
     "text": [
      "Sentimiento: Sentiment(polarity=0.0, subjectivity=1.0)\n",
      "Calificación: 3\n"
     ]
    }
   ],
   "source": [
    "import pandas as pd\n",
    "from textblob import TextBlob\n",
    "\n",
    "text = \"You brought me sunshine When I only saw rain You brought me laughter When I only felt pain.\"\n",
    "\n",
    "# Crear un objeto TextBlob con el texto\n",
    "blob = TextBlob(text)\n",
    "\n",
    "# Realizar el análisis de sentimiento\n",
    "sentiment = blob.sentiment\n",
    "\n",
    "# Obtener el puntaje de polaridad\n",
    "polarity = sentiment.polarity\n",
    "\n",
    "# Asignar una calificación de 1 a 5 según el sentimiento identificado\n",
    "if polarity > 0.3:\n",
    "    rating = 5  # Alegre\n",
    "elif polarity > 0.1:\n",
    "    rating = 4  # Enamorado\n",
    "elif polarity > -0.1:\n",
    "    rating = 3  # Eufórico\n",
    "elif polarity > -0.3:\n",
    "    rating = 2  # Triste\n",
    "else:\n",
    "    rating = 1  # Enojado\n",
    "\n",
    "# Mostrar el resultado\n",
    "print(\"Sentimiento:\", sentiment)\n",
    "print(\"Calificación:\", rating)\n"
   ]
  },
  {
   "cell_type": "code",
   "execution_count": 13,
   "id": "38cdecfd",
   "metadata": {},
   "outputs": [
    {
     "name": "stdout",
     "output_type": "stream",
     "text": [
      "  Sentimiento  Calificación\n",
      "0      Triste             3\n",
      "1      Alegre             5\n",
      "2     Enojado             1\n",
      "3   Enamorado             5\n",
      "4    Euforico             5\n"
     ]
    }
   ],
   "source": [
    "import pandas as pd\n",
    "from textblob import TextBlob\n",
    "\n",
    "# Definir los textos para cada sentimiento\n",
    "texts = {\n",
    "    'triste': \"You brought me sunshine When I only saw rain You brought me laughter When I only felt pain.\",\n",
    "    'alegre': \"I'm so happy today! The sun is shining and everything is going well.\",\n",
    "    'enojado': \"I can't believe what he did. It makes me so angry!\",\n",
    "    'enamorado': \"Every time I see you, my heart skips a beat. I'm madly in love with you.\",\n",
    "    'euforico': \"I just won the lottery! I'm on top of the world!\"\n",
    "}\n",
    "\n",
    "results = []\n",
    "\n",
    "# Realizar el análisis de sentimiento y asignar calificaciones\n",
    "for sentiment, text in texts.items():\n",
    "    blob = TextBlob(text)\n",
    "    polarity = blob.sentiment.polarity\n",
    "    \n",
    "    if polarity > 0.3:\n",
    "        rating = 5  # Alegre\n",
    "    elif polarity > 0.1:\n",
    "        rating = 4  # Enamorado\n",
    "    elif polarity > -0.1:\n",
    "        rating = 3  # Eufórico\n",
    "    elif polarity > -0.3:\n",
    "        rating = 2  # Triste\n",
    "    else:\n",
    "        rating = 1  # Enojado\n",
    "    \n",
    "    results.append({'Sentimiento': sentiment.capitalize(), 'Calificación': rating})\n",
    "\n",
    "# Crear un DataFrame a partir de los resultados\n",
    "df = pd.DataFrame(results)\n",
    "\n",
    "# Mostrar la tabla de resultados\n",
    "print(df)\n"
   ]
  }
 ],
 "metadata": {
  "kernelspec": {
   "display_name": "Python 3 (ipykernel)",
   "language": "python",
   "name": "python3"
  },
  "language_info": {
   "codemirror_mode": {
    "name": "ipython",
    "version": 3
   },
   "file_extension": ".py",
   "mimetype": "text/x-python",
   "name": "python",
   "nbconvert_exporter": "python",
   "pygments_lexer": "ipython3",
   "version": "3.9.13"
  }
 },
 "nbformat": 4,
 "nbformat_minor": 5
}
